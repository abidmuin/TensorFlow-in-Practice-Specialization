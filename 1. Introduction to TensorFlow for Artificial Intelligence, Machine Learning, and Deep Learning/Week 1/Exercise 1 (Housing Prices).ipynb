{
  "nbformat": 4,
  "nbformat_minor": 0,
  "metadata": {
    "colab": {
      "name": "Exercise_1_House_Prices_Question.ipynb",
      "provenance": [],
      "authorship_tag": "ABX9TyPF6lwdyXK+WRUF0QD74rsd",
      "include_colab_link": false
    },
    "kernelspec": {
      "name": "python3",
      "display_name": "Python 3"
    }
  },
  "cells": [
    {
      "cell_type": "markdown",
      "metadata": {
        "id": "view-in-github",
        "colab_type": "text"
      },
      "source": [
        "<a href=\"https://colab.research.google.com/github/muin2473/TensorFlow-in-Practice-Specialization/blob/master/1.%20Introduction%20to%20TensorFlow%20for%20Artificial%20Intelligence%2C%20Machine%20Learning%2C%20and%20Deep%20Learning/Exercise_1_House_Prices_Question.ipynb\" target=\"_parent\"><img src=\"https://colab.research.google.com/assets/colab-badge.svg\" alt=\"Open In Colab\"/></a>"
      ]
    },
    {
      "cell_type": "code",
      "metadata": {
        "id": "BsYvke6z_Ys2",
        "colab_type": "code",
        "colab": {}
      },
      "source": [
        "pip install --upgrade pip"
      ],
      "execution_count": 0,
      "outputs": []
    },
    {
      "cell_type": "code",
      "metadata": {
        "id": "Wbnl6_PR_dWn",
        "colab_type": "code",
        "colab": {}
      },
      "source": [
        "pip install tensorflow"
      ],
      "execution_count": 0,
      "outputs": []
    },
    {
      "cell_type": "code",
      "metadata": {
        "id": "WUVyMl3W_kW0",
        "colab_type": "code",
        "colab": {}
      },
      "source": [
        "import tensorflow as tf\n",
        "\n",
        "print(tf.version.VERSION)"
      ],
      "execution_count": 0,
      "outputs": []
    },
    {
      "cell_type": "code",
      "metadata": {
        "id": "qRpPlV17_r0H",
        "colab_type": "code",
        "colab": {}
      },
      "source": [
        "import tensorflow as tf\n",
        "import numpy as np\n",
        "from tensorflow import keras"
      ],
      "execution_count": 0,
      "outputs": []
    },
    {
      "cell_type": "code",
      "metadata": {
        "id": "np0PXdj0_y8v",
        "colab_type": "code",
        "colab": {}
      },
      "source": [
        "# GRADED FUNCTION: house_model\n",
        "def house_model(y_new):\n",
        "    xs = np.array([1.0, 2.0, 3.0, 4.0, 5.0, 6.0], dtype=float)\n",
        "    ys = np.array([1.0, 1.5, 2.0, 2.5, 3.0, 3.5], dtype=float)\n",
        "    model = tf.keras.Sequential([keras.layers.Dense(units=1, input_shape=[1])])\n",
        "    model.compile(optimizer='sgd', loss='mean_squared_error')\n",
        "    model.fit(xs, ys, epochs=500)\n",
        "    return model.predict(y_new)[0]"
      ],
      "execution_count": 0,
      "outputs": []
    },
    {
      "cell_type": "code",
      "metadata": {
        "id": "icTeTi3y_1mv",
        "colab_type": "code",
        "colab": {}
      },
      "source": [
        "prediction = house_model([7.0])\n",
        "print(prediction)"
      ],
      "execution_count": 0,
      "outputs": []
    }
  ]
}
